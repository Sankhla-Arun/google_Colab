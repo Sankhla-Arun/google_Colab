{
  "nbformat": 4,
  "nbformat_minor": 0,
  "metadata": {
    "colab": {
      "provenance": [],
      "toc_visible": true,
      "authorship_tag": "ABX9TyPXn11qEfeGTH00RAMfHjHN",
      "include_colab_link": true
    },
    "kernelspec": {
      "name": "python3",
      "display_name": "Python 3"
    },
    "language_info": {
      "name": "python"
    }
  },
  "cells": [
    {
      "cell_type": "markdown",
      "metadata": {
        "id": "view-in-github",
        "colab_type": "text"
      },
      "source": [
        "<a href=\"https://colab.research.google.com/github/Sankhla-Arun/google_Colab/blob/main/webscraping.ipynb\" target=\"_parent\"><img src=\"https://colab.research.google.com/assets/colab-badge.svg\" alt=\"Open In Colab\"/></a>"
      ]
    },
    {
      "cell_type": "code",
      "execution_count": 19,
      "metadata": {
        "id": "ONQAktpu_7_2"
      },
      "outputs": [],
      "source": [
        "import requests"
      ]
    },
    {
      "cell_type": "code",
      "source": [
        "b = input(\"Enter Query\")"
      ],
      "metadata": {
        "colab": {
          "base_uri": "https://localhost:8080/"
        },
        "id": "z1IfG0FrUf95",
        "outputId": "b9d0b4f8-dd96-42f6-85eb-1895e5c1f6e2"
      },
      "execution_count": 24,
      "outputs": [
        {
          "name": "stdout",
          "output_type": "stream",
          "text": [
            "Enter QueryRam\n"
          ]
        }
      ]
    },
    {
      "cell_type": "code",
      "source": [
        "a = \"https://unsplash.com/ngetty/v3/search/images/creative?fields=display_set%2Creferral_destinations%2Ctitle&page_size=28&phrase= {} &sort_order=best_match&graphical_styles=photography&exclude_nudity=true&exclude_editorial_use_only=true\""
      ],
      "metadata": {
        "id": "QaXsasHHT5dD"
      },
      "execution_count": 25,
      "outputs": []
    },
    {
      "cell_type": "code",
      "source": [
        "c = a.format(b)"
      ],
      "metadata": {
        "id": "V9vLIEFUUvq4"
      },
      "execution_count": 26,
      "outputs": []
    },
    {
      "cell_type": "code",
      "source": [
        "d = requests.get(c)"
      ],
      "metadata": {
        "id": "-inBKSkRVMq5"
      },
      "execution_count": 27,
      "outputs": []
    },
    {
      "cell_type": "code",
      "source": [
        "d.json()"
      ],
      "metadata": {
        "id": "JN1sKvVZWQWY"
      },
      "execution_count": null,
      "outputs": []
    },
    {
      "cell_type": "code",
      "source": [
        "dic = d.json()"
      ],
      "metadata": {
        "id": "22rs7Y8DI8WS"
      },
      "execution_count": 29,
      "outputs": []
    },
    {
      "cell_type": "code",
      "source": [
        "for i in dic[\"images\"]:\n",
        "  print(i[\"display_sizes\"][4][\"uri\"])"
      ],
      "metadata": {
        "colab": {
          "base_uri": "https://localhost:8080/"
        },
        "id": "gKOE4RHrJCxy",
        "outputId": "d4a520e5-b9e8-47c4-8d81-ca7e6ff67360"
      },
      "execution_count": 30,
      "outputs": [
        {
          "output_type": "stream",
          "name": "stdout",
          "text": [
            "https://media.istockphoto.com/id/1363904911/photo/stone-sheep-fighting.jpg?b=1&s=1024x1024&w=0&k=20&c=LqIAfwmG1fiyyqEs2KqTfly45ZnNrLKBkpFQTfJ_bBw=\n",
            "https://media.istockphoto.com/id/1368710202/photo/ovis-orientalis-isolated-on-white-background.jpg?b=1&s=1024x1024&w=0&k=20&c=2DEBlVwCj1fzCm0Of3acasAvlqGwR0pvvq9CQiU2jMI=\n",
            "https://media.istockphoto.com/id/1405148757/photo/close-up-computer-memory-ram-chip.jpg?b=1&s=1024x1024&w=0&k=20&c=5Bd55WAm_xzx20TB6xYXftPxNdcHShLc3-0BsSOD_qc=\n",
            "https://media.istockphoto.com/id/576560880/photo/male-long-tailed-sheep.jpg?b=1&s=1024x1024&w=0&k=20&c=fVYVzwSsbtBVMg99Ona_oda3dOCvs4_GPHpd2imSGD4=\n",
            "https://media.istockphoto.com/id/92434128/photo/computer-ram.jpg?b=1&s=1024x1024&w=0&k=20&c=XufHGKyO4u9bniovI7s3Ns0yk2w1-KX8Sl61Q7N8Q0M=\n",
            "https://media.istockphoto.com/id/1340903999/photo/random-access-memory-in-neon-light.jpg?b=1&s=1024x1024&w=0&k=20&c=Rrj8OgH56pqyx3OY3dsFvZfB2gvIC9nlwm6o2mZ7F8A=\n",
            "https://media.istockphoto.com/id/1398350576/photo/male-sheep.jpg?b=1&s=1024x1024&w=0&k=20&c=NnQ49-NyMxyrV_lI9IM7XoXaTlOEvLY5e9p8TYgf0H4=\n",
            "https://media.istockphoto.com/id/1440017154/photo/profile-portrait-of-a-bighorn-sheep-before-the-brown-shaded-background.jpg?b=1&s=1024x1024&w=0&k=20&c=6-tOXWY5JcfV-woVj8Wx1jIrpkHWGa0amuB3u6Ufpx0=\n",
            "https://media.istockphoto.com/id/153573160/photo/mouflon-wild-sheep-taxidermy-mount.jpg?b=1&s=1024x1024&w=0&k=20&c=iRsQC94C5pZhrWFloyMuJ_GViOoMX7mQUHCIl46R4qo=\n",
            "https://media.istockphoto.com/id/1516246929/photo/ram-ram-board-random-access-memory-isolated-from-the-background.jpg?b=1&s=1024x1024&w=0&k=20&c=dNV79mcttuyzGOmiBAJY1awtLctwVDU3cchjHb_dX74=\n",
            "https://media.istockphoto.com/id/483147081/photo/futuristic-circuit-board-blue-with-electrons.jpg?b=1&s=1024x1024&w=0&k=20&c=RACeod8wha4lsUprRvO7HKpvFwIRpEwfpmQ1T12rkmI=\n",
            "https://media.istockphoto.com/id/1404188581/photo/standing-bighorn-sheep-ram-portrait-canadian-rockies-jasper-national-park.jpg?b=1&s=1024x1024&w=0&k=20&c=9zWyORj5b2_dVSj621NvTWySGZSLuWYgcYOVfrZvNB8=\n",
            "https://media.istockphoto.com/id/97473765/photo/close-up-of-brown-bighorn-sheep.jpg?b=1&s=1024x1024&w=0&k=20&c=frGF60fw4bUksngxCfYG3819GSAMcTeCjRuPM6Ea2os=\n",
            "https://media.istockphoto.com/id/842492762/photo/bighorn-ram.jpg?b=1&s=1024x1024&w=0&k=20&c=9VVY32cs7vadehyNzy0zNr8OlFoI2pKBW90TKvjysoc=\n",
            "https://media.istockphoto.com/id/1472539968/photo/big-horn-ram-sheep-climbing-high-on-a-rock-outcrop-in-the-garden-of-the-gods-in-colorado.jpg?b=1&s=1024x1024&w=0&k=20&c=3iUqQXcte3QGPyXiE3qWCVHHOaRmJ1aKtkpCC7IGY2k=\n",
            "https://media.istockphoto.com/id/972699940/photo/close-up-portrait-of-a-bighorn-sheep-ram.jpg?b=1&s=1024x1024&w=0&k=20&c=KFxxHVQAyuGbytnGOShJCx0WedZkaTamEx_mPkS88Po=\n",
            "https://media.istockphoto.com/id/1472867401/photo/big-horn-ram-at-garden-of-the-gods-in-colorado-springs-colorado.jpg?b=1&s=1024x1024&w=0&k=20&c=PIRpLf4zz-_pFXuofCMtgsgDP0HnRWTRHj32XkoODcg=\n",
            "https://media.istockphoto.com/id/507957206/photo/ram.jpg?b=1&s=1024x1024&w=0&k=20&c=Ze7y0ciga3_CMIfp4_eBMR842k3wF6u5PEqLFrxjHxU=\n",
            "https://media.istockphoto.com/id/167642530/photo/bighorn-sheep-in-canadian-rockies-banff-canada.jpg?b=1&s=1024x1024&w=0&k=20&c=iDiblSrKXFN4LjcWGb2z_uDCfdks6LKptyry1iEHV5I=\n",
            "https://media.istockphoto.com/id/1363526073/photo/big-horn-sheep.jpg?b=1&s=1024x1024&w=0&k=20&c=4lWcEv_ftDIusvgvHQFJfzeZ4EYLegweqS33vQ8yp8M=\n",
            "https://media.istockphoto.com/id/1363904849/photo/stone-sheep.jpg?b=1&s=1024x1024&w=0&k=20&c=eLdz1IqoaC9fUEPN4xlRINjQRiCkDfiqY6qn9ds-60I=\n",
            "https://media.istockphoto.com/id/1442192285/photo/image-of-hard-disk-ram-and-motherboard-viewed-from-above.jpg?b=1&s=1024x1024&w=0&k=20&c=V9xdpn8BmixoEZ4yWRh1pz1TG7MqXhQLYDC_Zm512Rw=\n",
            "https://media.istockphoto.com/id/1368317414/photo/big-horn-sheep-ram-standing-on-snowy-hilltop.jpg?b=1&s=1024x1024&w=0&k=20&c=tLfXulBiS9VyFeJxwzUZYuSQAUwvcwC2ldEXEqMDHvU=\n",
            "https://media.istockphoto.com/id/1317434863/photo/portrait-of-a-ram.jpg?b=1&s=1024x1024&w=0&k=20&c=bgDLV7v8BCvAIwmNpOos989_GOpiHGBfnjAtOHYCfMg=\n",
            "https://media.istockphoto.com/id/1442846257/photo/sandstone-rock-formations-with-big-horn-sheep-grazing-in-the-foreground-at-garden-of-the-gods.jpg?b=1&s=1024x1024&w=0&k=20&c=zC6nklKBk7rbyCxsutNXDycKnLbBbt3WmmW1WSJ7QTw=\n",
            "https://media.istockphoto.com/id/104115501/photo/side-view-of-arles-merino-sheep-standing.jpg?b=1&s=1024x1024&w=0&k=20&c=40V9w7ua8znCJf2zKrsXRM_W96qbNN0-0sqmS6E9Qfw=\n",
            "https://media.istockphoto.com/id/1498731733/photo/two-people-carrying-the-sacrificial-sheep.jpg?b=1&s=1024x1024&w=0&k=20&c=tCRWya0bloxVmmkCNQassbdXv_FobIRltB8IjrVtCgQ=\n",
            "https://media.istockphoto.com/id/1404660545/photo/installation-of-new-ram-or-processor-of-personal-computer-in-service.jpg?b=1&s=1024x1024&w=0&k=20&c=79F3iGBq5uhteVSMh5OHBanRlMwKIBb56E7UKzY4cII=\n"
          ]
        }
      ]
    }
  ]
}